{
 "cells": [
  {
   "cell_type": "code",
   "execution_count": null,
   "metadata": {
    "collapsed": false
   },
   "outputs": [],
   "source": [
    "#Trying to make a notebook not sure if I am succedding\n",
    "# import plotly.plotly as py\n",
    "# import plotly.tools as tls\n",
    "import matplotlib.pyplot as plt\n",
    "import matplotlib.mlab as mlab\n",
    "import numpy as np\n",
    "import scipy.io as sio\n",
    "import plotly.plotly as py \n",
    "# from plotly.graph_objects import *\n",
    "\n",
    "data = sio.loadmat('/Volumes/maxlab/vibrotactile/04_Aim1/02_spatialLocalization/1000/20151118_1239-1000_block7.mat', struct_as_record=True)\n",
    "trialOutput = data['trialOutput']\n",
    "exptdesign = data['exptdesign']\n",
    "\n",
    "#pull relevant data from structures\n",
    "responseStartTime = data['trialOutput']['responseStartTime']\n",
    "responseFinishedTime = data['trialOutput']['responseFinishedTime']\n",
    "RT = data['trialOutput']['RT']\n",
    "sResp = data['trialOutput']['sResp']\n",
    "correctResponse = data['trialOutput']['correctResponse']\n",
    "accuracy = data['trialOutput']['accuracy']\n",
    "\n",
    "x = []\n",
    "y = []\n",
    "for i in range(accuracy.size):\n",
    "    x.append([i])\n",
    "    y.append([np.mean([accuracy[0,i]])])\n",
    "\n",
    "py.iplot ({\n",
    "            \"data\": [{\n",
    "                    \"x\": x,\n",
    "                    \"y\": y\n",
    "                }],\n",
    "            \"layout\": {\n",
    "                \"title\": \"Accuracy for Subject 1000\"\n",
    "            }\n",
    "        })\n",
    "\n",
    "# #calculating dprime\n",
    "# i=0\n",
    "\n",
    "# hit_block= []\n",
    "# miss_block= []\n",
    "# false_alarm_block=[]\n",
    "# correct_rejection_block= []\n",
    "# generalMiss_block = []\n",
    "\n",
    "# for i in range(accuracy.size):\n",
    "#     hit= miss= false_alarm= correct_rejection= generalMiss = 0\n",
    "#     for counter in range(sResp[0,i].size):\n",
    "#         value = sResp[0,i][0,counter]\n",
    "#         value2 = correctResponse[0,i][0,counter]\n",
    "#         if sResp[0,i][0,counter]==1 and correctResponse[0,i][0,counter]==1:\n",
    "#             hit += 1\n",
    "#         elif sResp[0,i][0,counter]==2 and correctResponse[0,i][0,counter]==2:\n",
    "#             correct_rejection += 1\n",
    "#         elif sResp[0,i][0,counter]==1 and correctResponse[0,i][0,counter]==2:\n",
    "#             false_alarm += 1\n",
    "#         elif sResp[0,i][0,counter]==2 and correctResponse[0,i][0,counter]==1:\n",
    "#             miss += 1\n",
    "#         else:\n",
    "#             generalMiss += 1\n",
    "\n",
    "#     generalMiss_block.append(generalMiss)\n",
    "#     hit_block.append(hit)\n",
    "#     correct_rejection_block.append(correct_rejection)\n",
    "#     false_alarm_block.append(false_alarm)\n",
    "\n",
    "# multiple_bars = plt.figure()\n",
    "# x = [\"general missed response\", \"hit\", \"correct rejection\", \"false alarm\"]\n",
    "# y = [np.mean(generalMiss_block), np.mean(hit_block), np.mean(correct_rejection), np.mean(false_alarm_block)]\n",
    "\n",
    "# fig, ax = plt.subplots(1111)\n",
    "# ax.bar(x[0],y[0])\n",
    "# ax.bar(x[1],y[1])\n",
    "# ax.bar(x[2],y[2])\n",
    "# ax.bar(x[3],y[3])\n",
    "# ax.grid()\n",
    "    \n",
    "# plt.show()\n",
    "#update subject data note: fileopt = 'new' creates a new file\n",
    "plot_url = py.plot(data, filename='home/Vibrotactile/SubjectSpecific/s1000', fileopt='extend')\n",
    "#update summary file\n",
    "plot_url = py.plot(data, filename='append plot', fileopt='append')"
   ]
  },
  {
   "cell_type": "code",
   "execution_count": 2,
   "metadata": {
    "collapsed": false
   },
   "outputs": [
    {
     "ename": "SyntaxError",
     "evalue": "invalid syntax (<ipython-input-2-c9339812d5ed>, line 3)",
     "output_type": "error",
     "traceback": [
      "\u001b[0;36m  File \u001b[0;32m\"<ipython-input-2-c9339812d5ed>\"\u001b[0;36m, line \u001b[0;32m3\u001b[0m\n\u001b[0;31m    var trace1 = {\u001b[0m\n\u001b[0m             ^\u001b[0m\n\u001b[0;31mSyntaxError\u001b[0m\u001b[0;31m:\u001b[0m invalid syntax\n"
     ]
    }
   ],
   "source": [
    "import plotly.js as pjs\n",
    "<iframe width=\"640\" height=\"480\" frameborder=\"0\" seamless=\"seamless\" scrolling=\"no\" src=\"https://plot.ly/~Dreamshot/411.embed?width=640&height=480\" ></iframe>\n",
    "\n",
    "var trace1 = {\n",
    "  x: ['giraffes', 'orangutans', 'monkeys'],\n",
    "  y: [20, 14, 23],\n",
    "  name: 'SF Zoo',\n",
    "  type: 'bar'\n",
    "};\n",
    "\n",
    "var trace2 = {\n",
    "  x: ['giraffes', 'orangutans', 'monkeys'],\n",
    "  y: [12, 18, 29],\n",
    "  name: 'LA Zoo',\n",
    "  type: 'bar'\n",
    "};\n",
    "\n",
    "var data = [trace1, trace2];\n",
    "\n",
    "var layout = {barmode: 'group'};\n",
    "\n",
    "Plotly.newPlot('myDiv', data, layout);"
   ]
  },
  {
   "cell_type": "code",
   "execution_count": null,
   "metadata": {
    "collapsed": true
   },
   "outputs": [],
   "source": [
    "import plotly.tools as tls\n",
    "\n",
    "tls.get_embed('https://plot.ly/~cs1471/')"
   ]
  }
 ],
 "metadata": {
  "kernelspec": {
   "display_name": "Python 3",
   "language": "python",
   "name": "python3"
  },
  "language_info": {
   "codemirror_mode": {
    "name": "ipython",
    "version": 3
   },
   "file_extension": ".py",
   "mimetype": "text/x-python",
   "name": "python",
   "nbconvert_exporter": "python",
   "pygments_lexer": "ipython3",
   "version": "3.5.0"
  }
 },
 "nbformat": 4,
 "nbformat_minor": 0
}
