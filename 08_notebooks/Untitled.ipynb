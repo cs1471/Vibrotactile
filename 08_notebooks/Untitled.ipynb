{
 "cells": [
  {
   "cell_type": "code",
   "execution_count": 2,
   "metadata": {
    "collapsed": false
   },
   "outputs": [
    {
     "ename": "SyntaxError",
     "evalue": "invalid syntax (<ipython-input-2-dc3a51d401f6>, line 1)",
     "output_type": "error",
     "traceback": [
      "\u001b[0;36m  File \u001b[0;32m\"<ipython-input-2-dc3a51d401f6>\"\u001b[0;36m, line \u001b[0;32m1\u001b[0m\n\u001b[0;31m    <script type=\"text/javascript\" src=\"https://www.google.com/jsapi?autoload={'modules':[{'name':'visualization','version':'1.1','packages':['bar']}]}\"></script>\u001b[0m\n\u001b[0m    ^\u001b[0m\n\u001b[0;31mSyntaxError\u001b[0m\u001b[0;31m:\u001b[0m invalid syntax\n"
     ]
    }
   ],
   "source": [
    "<script type=\"text/javascript\" src=\"https://www.google.com/jsapi?autoload={'modules':[{'name':'visualization','version':'1.1','packages':['bar']}]}\"></script>\n",
    "<div id=\"chart_div\"></div>\n",
    "<br/>\n",
    "<div id=\"btn-group\">\n",
    "    <button class=\"button button-blue\" id=\"none\">No Format</button>\n",
    "    <button class=\"button button-blue\" id=\"scientific\">Scientific Notation</button>\n",
    "    <button class=\"button button-blue\" id=\"decimal\">Decimal</button>\n",
    "    <button class=\"button button-blue\" id=\"short\">Short</button>\n",
    "</div>"
   ]
  },
  {
   "cell_type": "code",
   "execution_count": 1,
   "metadata": {
    "collapsed": false
   },
   "outputs": [
    {
     "ename": "SyntaxError",
     "evalue": "invalid syntax (<ipython-input-1-57d0f7b33078>, line 2)",
     "output_type": "error",
     "traceback": [
      "\u001b[0;36m  File \u001b[0;32m\"<ipython-input-1-57d0f7b33078>\"\u001b[0;36m, line \u001b[0;32m2\u001b[0m\n\u001b[0;31m    function drawChart() {\u001b[0m\n\u001b[0m                     ^\u001b[0m\n\u001b[0;31mSyntaxError\u001b[0m\u001b[0;31m:\u001b[0m invalid syntax\n"
     ]
    }
   ],
   "source": [
    "google.setOnLoadCallback(drawChart);\n",
    "function drawChart() {\n",
    "    var data = google.visualization.arrayToDataTable([\n",
    "        ['Year', 'Sales', 'Expenses', 'Profit'],\n",
    "        ['2014', 1000, 400, 200],\n",
    "        ['2015', 1170, 460, 250],\n",
    "        ['2016', 660, 1120, 300],\n",
    "        ['2017', 1030, 540, 350]\n",
    "    ]);\n",
    "\n",
    "    var options = {\n",
    "        chart: {\n",
    "            title: 'Company Performance',\n",
    "            subtitle: 'Sales, Expenses, and Profit: 2014-2017',\n",
    "        },\n",
    "        bars: 'vertical',\n",
    "        vAxis: {format: 'decimal'},\n",
    "        height: 400,\n",
    "        colors: ['#1b9e77', '#d95f02', '#7570b3']\n",
    "    };\n",
    "\n",
    "    var chart = new google.charts.Bar(document.getElementById('chart_div'));\n",
    "\n",
    "    chart.draw(data, google.charts.Bar.convertOptions(options));\n",
    "\n",
    "    var btns = document.getElementById('btn-group');\n",
    "\n",
    "    btns.onclick = function (e) {\n",
    "\n",
    "        if (e.target.tagName === 'BUTTON') {\n",
    "            options.vAxis.format = e.target.id === 'none' ? '' : e.target.id;\n",
    "            chart.draw(data, google.charts.Bar.convertOptions(options));\n",
    "        }\n",
    "    }\n",
    "}"
   ]
  },
  {
   "cell_type": "code",
   "execution_count": null,
   "metadata": {
    "collapsed": true
   },
   "outputs": [],
   "source": []
  }
 ],
 "metadata": {
  "kernelspec": {
   "display_name": "Python 3",
   "language": "python",
   "name": "python3"
  },
  "language_info": {
   "codemirror_mode": {
    "name": "ipython",
    "version": 3
   },
   "file_extension": ".py",
   "mimetype": "text/x-python",
   "name": "python",
   "nbconvert_exporter": "python",
   "pygments_lexer": "ipython3",
   "version": "3.5.0"
  }
 },
 "nbformat": 4,
 "nbformat_minor": 0
}
