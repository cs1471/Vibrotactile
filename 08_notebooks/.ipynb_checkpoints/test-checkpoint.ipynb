{
 "cells": [
  {
   "cell_type": "code",
   "execution_count": null,
   "metadata": {
    "collapsed": false
   },
   "outputs": [],
   "source": [
    "init_notebook_mode() # run at the start of every ipython notebook to use plotly.offline\n",
    "                     # this injects the plotly.js source files into the notebook"
   ]
  },
  {
   "cell_type": "code",
   "execution_count": 29,
   "metadata": {
    "collapsed": false
   },
   "outputs": [],
   "source": [
    "#Trying to make a notebook not sure if I am succedding\n",
    "import matplotlib.pyplot as plt\n",
    "import numpy as np\n",
    "import scipy.io as sio\n",
    "import plotly.plotly as py\n",
    "import statistics as stat\n",
    "from math import log2\n",
    "import plotly.graph_objs as go"
   ]
  },
  {
   "cell_type": "code",
   "execution_count": 30,
   "metadata": {
    "collapsed": true
   },
   "outputs": [],
   "source": [
    "#load file \n",
    "data = sio.loadmat('/Users/courtney/GoogleDrive/Riesenhuber/05_2015_scripts/Vibrotactile/01_CategoryTraining/data/1000/20151208_1505-MR1000_block6.mat')"
   ]
  },
  {
   "cell_type": "code",
   "execution_count": 31,
   "metadata": {
    "collapsed": true
   },
   "outputs": [],
   "source": [
    "#generate frequencies for stimulator \n",
    "def my_range(start, end, step):\n",
    "    while start <= end:\n",
    "        yield start\n",
    "        start += step\n",
    "        \n",
    "frequencyList=[]\n",
    "for i in my_range(0, 2, 0.1):\n",
    "    frequencyList.append(i)\n",
    "\n",
    "for index,obj in enumerate(frequencyList):\n",
    "    obj += log2(25)\n",
    "    frequencyList[index] = round(2**obj)"
   ]
  },
  {
   "cell_type": "code",
   "execution_count": 32,
   "metadata": {
    "collapsed": true
   },
   "outputs": [],
   "source": [
    "#pull relevant data from structures\n",
    "responseStartTime = data['trialOutput']['responseStartTime']\n",
    "responseFinishedTime = data['trialOutput']['responseFinishedTime']\n",
    "RT = data['trialOutput']['RT']\n",
    "sResp = data['trialOutput']['sResp']\n",
    "correctResponse = data['trialOutput']['correctResponse']\n",
    "accuracy = data['trialOutput']['accuracy']\n",
    "level = data['trialOutput']['level']\n",
    "stimuli = data['trialOutput']['stimuli']\n",
    "nTrials=data['exptdesign']['numTrialsPerSession'][0,0][0]\n",
    "nBlocks=data['exptdesign']['numSessions'][0,0][0]\n",
    "subjectName = data['exptdesign']['number'][0,0][0]"
   ]
  },
  {
   "cell_type": "code",
   "execution_count": 33,
   "metadata": {
    "collapsed": true
   },
   "outputs": [],
   "source": [
    "#separate accuracy by morph \n",
    "i=counter=0\n",
    "m_catProto_accuracy = []\n",
    "m_middleM_accuracy = []\n",
    "m_catBound_accuracy = []\n",
    "for i in range(sResp.size):\n",
    "    catProto_accuracy = []\n",
    "    middleM_accuracy = []\n",
    "    catBound_accuracy = []\n",
    "    for counter in range(sResp[0,i].size):\n",
    "        stimulus = round(stimuli[0,i][0,counter])\n",
    "        if accuracy[0,i][0,counter]==1:\n",
    "            if stimulus == frequencyList[0] or stimulus == frequencyList[1] or stimulus == frequencyList[2]:\n",
    "                catProto_accuracy.insert(counter,1)\n",
    "            elif stimulus == frequencyList[19] or stimulus == frequencyList[18] or stimulus == frequencyList[17]:\n",
    "                catProto_accuracy.insert(counter,1)\n",
    "            elif stimulus == frequencyList[3] or stimulus == frequencyList[4] or stimulus == frequencyList[5]:\n",
    "                middleM_accuracy.insert(counter,1)\n",
    "            elif stimulus == frequencyList[16] or stimulus == frequencyList[15] or stimulus == frequencyList[14]:\n",
    "                middleM_accuracy.insert(counter,1)\n",
    "            elif stimulus == frequencyList[6] or stimulus == frequencyList[7] or stimulus == frequencyList[8]:\n",
    "                catBound_accuracy.insert(counter,1)\n",
    "            elif stimulus == frequencyList[13] or stimulus == frequencyList[12] or stimulus == frequencyList[11]:\n",
    "                catBound_accuracy.insert(counter,1)\n",
    "        else:\n",
    "            if stimulus == frequencyList[0] or stimulus == frequencyList[1] or stimulus == frequencyList[2]:\n",
    "                catProto_accuracy.insert(counter,0)\n",
    "            elif stimulus == frequencyList[19] or stimulus == frequencyList[18] or stimulus == frequencyList[17]:\n",
    "                catProto_accuracy.insert(counter,0)\n",
    "            elif stimulus == frequencyList[3] or stimulus == frequencyList[4] or stimulus == frequencyList[5]:\n",
    "                middleM_accuracy.insert(counter,0)\n",
    "            elif stimulus == frequencyList[16] or stimulus == frequencyList[15] or stimulus == frequencyList[14]:\n",
    "                middleM_accuracy.insert(counter,0)\n",
    "            elif stimulus == frequencyList[6] or stimulus == frequencyList[7] or stimulus == frequencyList[8]:\n",
    "                catBound_accuracy.insert(counter,0)\n",
    "            elif stimulus == frequencyList[13] or stimulus == frequencyList[12] or stimulus == frequencyList[11]:\n",
    "                catBound_accuracy.insert(counter,0)\n",
    "    m_catProto_accuracy.append(catProto_accuracy)\n",
    "    m_catBound_accuracy.append(catBound_accuracy)\n",
    "    m_middleM_accuracy.append(middleM_accuracy)"
   ]
  },
  {
   "cell_type": "code",
   "execution_count": 50,
   "metadata": {
    "collapsed": true
   },
   "outputs": [],
   "source": [
    "#calculate the mean accuracy by morph across blocks \n",
    "cp_mean=[]\n",
    "counter =0\n",
    "for counter in range(len(m_catProto_accuracy)):\n",
    "    if m_catProto_accuracy[counter] != []:\n",
    "        cp_mean.append(sum(m_catProto_accuracy[counter])/len(m_catProto_accuracy[counter]))\n",
    "    else:\n",
    "        cp_mean.append(0)\n",
    "\n",
    "mm_mean=[]\n",
    "counter =0\n",
    "for counter in range(len(m_middleM_accuracy)):\n",
    "    if m_middleM_accuracy[counter] != []:\n",
    "        mm_mean.append(sum(m_middleM_accuracy[counter])/len(m_middleM_accuracy[counter]))\n",
    "    else:\n",
    "        mm_mean.append(0)\n",
    "\n",
    "cb_mean=[]\n",
    "counter =0\n",
    "for counter in range(len(m_catBound_accuracy)):\n",
    "    if m_catBound_accuracy[counter] != []:\n",
    "        cb_mean.append(sum(m_catBound_accuracy[counter])/len(m_catBound_accuracy[counter]))\n",
    "    else:\n",
    "        cb_mean.append(0)"
   ]
  },
  {
   "cell_type": "code",
   "execution_count": 57,
   "metadata": {
    "collapsed": false
   },
   "outputs": [
    {
     "ename": "SyntaxError",
     "evalue": "invalid syntax (<ipython-input-57-bc48a1acfb06>, line 6)",
     "output_type": "error",
     "traceback": [
      "\u001b[0;36m  File \u001b[0;32m\"<ipython-input-57-bc48a1acfb06>\"\u001b[0;36m, line \u001b[0;32m6\u001b[0m\n\u001b[0;31m    x : [\"Block 1\", \"Block 2\", \"Block 3\", \"Block 4\", \"Block 5\", \"Block 6\"],\u001b[0m\n\u001b[0m      ^\u001b[0m\n\u001b[0;31mSyntaxError\u001b[0m\u001b[0;31m:\u001b[0m invalid syntax\n"
     ]
    }
   ],
   "source": [
    "#calculate the mean of accuracy by morph + SEM \n",
    "accuracy_mean = ((sum(catProto_accuracy)/len(catProto_accuracy)), (sum(middleM_accuracy)/len(middleM_accuracy)), (sum(catBound_accuracy)/len(catBound_accuracy)))\n",
    "SEM = (np.std(catProto_accuracy), np.std(middleM_accuracy), np.std(catBound_accuracy))\n",
    "\n",
    "trace1 = (\n",
    "                    x : [\"Block 1\", \"Block 2\", \"Block 3\", \"Block 4\", \"Block 5\", \"Block 6\"],\n",
    "                    y = cp_mean\n",
    "                    #name = \"Category Prototype\"\n",
    "            )\n",
    "trace2 = Bar(\n",
    "                    x = [\"Block 1\", \"Block 2\", \"Block 3\", \"Block 4\", \"Block 5\", \"Block 6\"],\n",
    "                    y = mm_mean\n",
    "                    #name = \"Middle Morph Accuracy\"\n",
    "            )\n",
    "trace3 = Bar(\n",
    "                    x = [\"Block 1\", \"Block 2\", \"Block 3\", \"Block 4\", \"Block 5\", \"Block 6\"],\n",
    "                    y = cb_mean\n",
    "                    #name = \"Category Boundary\"\n",
    "            )\n",
    "data = [trace1]\n",
    "# layout = go.Layout(barmode='group')\n",
    "#plot\n",
    "py.iplot ({\n",
    "            \"data\": [{data}],\n",
    "        \n",
    "            'layout': Layout(xaxis=XAxis(title=\"Block\"), yaxis=YAxis(title=\"Accuracy\"))\n",
    "        })\n"
   ]
  },
  {
   "cell_type": "code",
   "execution_count": 35,
   "metadata": {
    "collapsed": false
   },
   "outputs": [
    {
     "data": {
      "text/html": [
       "<iframe id=\"igraph\" scrolling=\"no\" style=\"border:none;\"seamless=\"seamless\" src=\"https://plot.ly/~cs1471/56.embed\" height=\"525px\" width=\"100%\"></iframe>"
      ],
      "text/plain": [
       "<plotly.tools.PlotlyDisplay object>"
      ]
     },
     "execution_count": 35,
     "metadata": {},
     "output_type": "execute_result"
    }
   ],
   "source": [
    "x = []\n",
    "y = []\n",
    "for i in range(accuracy.size):\n",
    "    x.append([i+1])\n",
    "    y.append([np.mean([accuracy[0,i]])])\n",
    "    \n",
    "py.iplot ({\n",
    "            \"data\": [{\n",
    "                    \"x\": x,\n",
    "                    \"y\": y\n",
    "                }],\n",
    "            \"layout\": {\n",
    "                \"title\": \"Accuracy for Subject 1000\"\n",
    "            }\n",
    "        })"
   ]
  },
  {
   "cell_type": "code",
   "execution_count": null,
   "metadata": {
    "collapsed": true
   },
   "outputs": [],
   "source": []
  }
 ],
 "metadata": {
  "kernelspec": {
   "display_name": "Python 3",
   "language": "python",
   "name": "python3"
  },
  "language_info": {
   "codemirror_mode": {
    "name": "ipython",
    "version": 3
   },
   "file_extension": ".py",
   "mimetype": "text/x-python",
   "name": "python",
   "nbconvert_exporter": "python",
   "pygments_lexer": "ipython3",
   "version": "3.5.0"
  }
 },
 "nbformat": 4,
 "nbformat_minor": 0
}
